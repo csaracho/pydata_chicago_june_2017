{
 "cells": [
  {
   "cell_type": "markdown",
   "metadata": {
    "collapsed": true,
    "slideshow": {
     "slide_type": "slide"
    }
   },
   "source": [
    "<h2 style=\"display:inline;\"> Turning </h2> \n",
    "<img src=\"img/pymc3.jpg\" alt=\"pymc3_logo\" style=\"width: 200px;display:inline;\"/>\n",
    "<h2 style=\"display:inline;\"> into </h2>\n",
    "<img src=\"img/sklearn.png\" alt=\"sklearn_logo\" style=\"width: 150px;display:inline;\"/>\n",
    "\n",
    "<h3>\n",
    "Nicole Carlson <br>\n",
    "@parsing_science <br>\n",
    "github.com/parsing-science\n",
    "</h3>"
   ]
  },
  {
   "cell_type": "markdown",
   "metadata": {
    "slideshow": {
     "slide_type": "slide"
    }
   },
   "source": [
    "<h2> Overview </h2>\n",
    "- Motivating Example: Scikitlearn Linear Regression\n",
    "- Intro to PyMC3\n",
    "- PyMC3 Linear Regression\n",
    "- Compare Scikitlearn and PyMC3\n",
    "- Implement Hiearchical Logistic Regression in PyMC3\n",
    "- Use the Hierarchical Logistic Regression"
   ]
  },
  {
   "cell_type": "code",
   "execution_count": 1,
   "metadata": {
    "collapsed": true,
    "slideshow": {
     "slide_type": "skip"
    }
   },
   "outputs": [],
   "source": [
    "import pickle\n",
    "\n",
    "from matplotlib import pyplot as plt\n",
    "import numpy as np\n",
    "from pymc3 import summary, traceplot\n",
    "import pymc3 as pm\n",
    "\n",
    "from sklearn.linear_model import LinearRegression\n",
    "from sklearn.metrics import r2_score\n",
    "\n",
    "import theano.tensor as T\n",
    "\n",
    "%matplotlib inline"
   ]
  },
  {
   "cell_type": "code",
   "execution_count": 2,
   "metadata": {
    "collapsed": true,
    "slideshow": {
     "slide_type": "skip"
    }
   },
   "outputs": [],
   "source": [
    "import warnings\n",
    "warnings.filterwarnings(action=\"ignore\", module=\"scipy\", message=\"^internal gelsd\")"
   ]
  },
  {
   "cell_type": "markdown",
   "metadata": {
    "slideshow": {
     "slide_type": "slide"
    }
   },
   "source": [
    "<h2>Motivating Example: Scikitlearn</h2>"
   ]
  },
  {
   "cell_type": "markdown",
   "metadata": {
    "slideshow": {
     "slide_type": "slide"
    }
   },
   "source": [
    "<h2> Generate Fake Data </h2>"
   ]
  },
  {
   "cell_type": "code",
   "execution_count": 3,
   "metadata": {
    "collapsed": true,
    "slideshow": {
     "slide_type": "fragment"
    }
   },
   "outputs": [],
   "source": [
    "X = np.random.randn(1000, 1)\n",
    "noise = 2* np.random.randn(1000, 1)\n",
    "Y = 4 * X + 3 + noise"
   ]
  },
  {
   "cell_type": "code",
   "execution_count": 4,
   "metadata": {
    "slideshow": {
     "slide_type": "fragment"
    }
   },
   "outputs": [
    {
     "data": {
      "text/plain": [
       "<matplotlib.collections.PathCollection at 0x115450c90>"
      ]
     },
     "execution_count": 4,
     "metadata": {},
     "output_type": "execute_result"
    },
    {
     "data": {
      "image/png": "[encoded data removed]",
      "text/plain": [
       "<matplotlib.figure.Figure at 0x10fa29250>"
      ]
     },
     "metadata": {},
     "output_type": "display_data"
    }
   ],
   "source": [
    "plt.scatter(X, Y)"
   ]
  },
  {
   "cell_type": "markdown",
   "metadata": {
    "slideshow": {
     "slide_type": "slide"
    }
   },
   "source": [
    "<h2> Create a LinearRegression instance and use it </h2>"
   ]
  },
  {
   "cell_type": "code",
   "execution_count": 5,
   "metadata": {
    "collapsed": true,
    "slideshow": {
     "slide_type": "fragment"
    }
   },
   "outputs": [],
   "source": [
    "LR = LinearRegression()"
   ]
  },
  {
   "cell_type": "code",
   "execution_count": 6,
   "metadata": {
    "slideshow": {
     "slide_type": "fragment"
    }
   },
   "outputs": [
    {
     "data": {
      "text/plain": [
       "LinearRegression(copy_X=True, fit_intercept=True, n_jobs=1, normalize=False)"
      ]
     },
     "execution_count": 6,
     "metadata": {},
     "output_type": "execute_result"
    }
   ],
   "source": [
    "LR.fit(X, Y)"
   ]
  },
  {
   "cell_type": "code",
   "execution_count": 7,
   "metadata": {
    "collapsed": true,
    "slideshow": {
     "slide_type": "fragment"
    }
   },
   "outputs": [],
   "source": [
    "X_predict = LR.predict(X)"
   ]
  },
  {
   "cell_type": "code",
   "execution_count": 8,
   "metadata": {
    "slideshow": {
     "slide_type": "fragment"
    }
   },
   "outputs": [
    {
     "data": {
      "text/plain": [
       "0.7929100853141251"
      ]
     },
     "execution_count": 8,
     "metadata": {},
     "output_type": "execute_result"
    }
   ],
   "source": [
    "LR.score(X, Y)"
   ]
  },
  {
   "cell_type": "markdown",
   "metadata": {
    "slideshow": {
     "slide_type": "slide"
    }
   },
   "source": [
    "<h2> Save and Load LR </h2>"
   ]
  },
  {
   "cell_type": "code",
   "execution_count": 9,
   "metadata": {
    "collapsed": true,
    "slideshow": {
     "slide_type": "fragment"
    }
   },
   "outputs": [],
   "source": [
    "pickle.dump(LR, open('LR.pickle', 'wb'))"
   ]
  },
  {
   "cell_type": "code",
   "execution_count": 10,
   "metadata": {
    "collapsed": true,
    "slideshow": {
     "slide_type": "fragment"
    }
   },
   "outputs": [],
   "source": [
    "saved_LR = pickle.load(open('LR.pickle', 'rb'))"
   ]
  },
  {
   "cell_type": "code",
   "execution_count": 11,
   "metadata": {
    "slideshow": {
     "slide_type": "fragment"
    }
   },
   "outputs": [
    {
     "data": {
      "text/plain": [
       "0.7929100853141251"
      ]
     },
     "execution_count": 11,
     "metadata": {},
     "output_type": "execute_result"
    }
   ],
   "source": [
    "saved_LR.score(X, Y)"
   ]
  },
  {
   "cell_type": "markdown",
   "metadata": {
    "slideshow": {
     "slide_type": "slide"
    }
   },
   "source": [
    "<h2> Intro to PyMC3 </h2>\n",
    "\n",
    "- Library for Probabilistic Modeling\n",
    "- MCMC Samplers\n",
    "- Variational Fitting Algorithms\n",
    "- Built on top of Theano\n",
    "- Completely written in Python"
   ]
  },
  {
   "cell_type": "markdown",
   "metadata": {
    "slideshow": {
     "slide_type": "slide"
    }
   },
   "source": [
    "<h2> Using PyMC3 </h2>\n",
    "- Step 1: Set up: Parameterize your model, choose priors, and insert training data\n",
    "- Step 2: Inference: infer your parameters using sampling (e.g. NUTS) or variational inference (e.g. ADVI)\n",
    "- Step 3: Interpret: Check your parameter distributions and model fit\n",
    "- Step 4: Predict data: Create posterior samples with your inferred parameters"
   ]
  },
  {
   "cell_type": "markdown",
   "metadata": {
    "slideshow": {
     "slide_type": "slide"
    }
   },
   "source": [
    "<h2> Step 1: Set up the PyMC3 model </h2>"
   ]
  },
  {
   "cell_type": "code",
   "execution_count": 12,
   "metadata": {
    "collapsed": true,
    "slideshow": {
     "slide_type": "fragment"
    }
   },
   "outputs": [],
   "source": [
    "lin_reg_model = pm.Model()\n",
    "with lin_reg_model:\n",
    "\n",
    "    alpha = pm.Normal('alpha', mu=0, tau=10.**-2, shape=(1))\n",
    "    betas = pm.Normal('betas', mu=0, tau=10. ** -2, shape=(1))\n",
    "    \n",
    "    s = pm.HalfNormal('s', tau=1)\n",
    "    \n",
    "    temp = alpha + betas * X\n",
    "\n",
    "    y = pm.Normal('y', mu=temp , tau=s ** -2, observed=Y)"
   ]
  },
  {
   "cell_type": "markdown",
   "metadata": {
    "slideshow": {
     "slide_type": "slide"
    }
   },
   "source": [
    "<h2> Step 2: Infer your parameters </h2>"
   ]
  },
  {
   "cell_type": "code",
   "execution_count": 13,
   "metadata": {
    "slideshow": {
     "slide_type": "fragment"
    }
   },
   "outputs": [
    {
     "name": "stderr",
     "output_type": "stream",
     "text": [
      "100%|██████████| 2000/2000.0 [00:04<00:00, 407.18it/s]\n"
     ]
    }
   ],
   "source": [
    "with lin_reg_model:\n",
    "    step = pm.NUTS()\n",
    "    nuts_trace = pm.sample(2e3, step)"
   ]
  },
  {
   "cell_type": "markdown",
   "metadata": {
    "slideshow": {
     "slide_type": "slide"
    }
   },
   "source": [
    "<h2> Step 3: Interpret your parameters </h2>"
   ]
  },
  {
   "cell_type": "code",
   "execution_count": 14,
   "metadata": {
    "slideshow": {
     "slide_type": "fragment"
    }
   },
   "outputs": [
    {
     "name": "stdout",
     "output_type": "stream",
     "text": [
      "\n",
      "alpha:\n",
      "\n",
      "  Mean             SD               MC Error         95% HPD interval\n",
      "  -------------------------------------------------------------------\n",
      "  \n",
      "  2.954            0.127            0.005            [2.836, 3.071]\n",
      "\n",
      "  Posterior quantiles:\n",
      "  2.5            25             50             75             97.5\n",
      "  |--------------|==============|==============|--------------|\n",
      "  \n",
      "  2.840          2.916          2.957          2.999          3.078\n",
      "\n",
      "\n",
      "betas:\n",
      "\n",
      "  Mean             SD               MC Error         95% HPD interval\n",
      "  -------------------------------------------------------------------\n",
      "  \n",
      "  3.950            0.165            0.007            [3.822, 4.084]\n",
      "\n",
      "  Posterior quantiles:\n",
      "  2.5            25             50             75             97.5\n",
      "  |--------------|==============|==============|--------------|\n",
      "  \n",
      "  3.828          3.910          3.956          3.999          4.095\n",
      "\n",
      "\n",
      "s:\n",
      "\n",
      "  Mean             SD               MC Error         95% HPD interval\n",
      "  -------------------------------------------------------------------\n",
      "  \n",
      "  2.018            0.069            0.003            [1.943, 2.109]\n",
      "\n",
      "  Posterior quantiles:\n",
      "  2.5            25             50             75             97.5\n",
      "  |--------------|==============|==============|--------------|\n",
      "  \n",
      "  1.940          1.989          2.020          2.051          2.107\n",
      "\n"
     ]
    }
   ],
   "source": [
    "summary(nuts_trace)"
   ]
  },
  {
   "cell_type": "code",
   "execution_count": 15,
   "metadata": {
    "slideshow": {
     "slide_type": "fragment"
    }
   },
   "outputs": [
    {
     "data": {
      "text/plain": [
       "array([[<matplotlib.axes._subplots.AxesSubplot object at 0x119ac5ed0>,\n",
       "        <matplotlib.axes._subplots.AxesSubplot object at 0x119b50650>],\n",
       "       [<matplotlib.axes._subplots.AxesSubplot object at 0x119bbafd0>,\n",
       "        <matplotlib.axes._subplots.AxesSubplot object at 0x119c32890>],\n",
       "       [<matplotlib.axes._subplots.AxesSubplot object at 0x119cbd250>,\n",
       "        <matplotlib.axes._subplots.AxesSubplot object at 0x119d26210>]], dtype=object)"
      ]
     },
     "execution_count": 15,
     "metadata": {},
     "output_type": "execute_result"
    },
    {
     "data": {
      "image/png": "[encoded data removed]",
      "text/plain": [
       "<matplotlib.figure.Figure at 0x118df96d0>"
      ]
     },
     "metadata": {},
     "output_type": "display_data"
    }
   ],
   "source": [
    "traceplot(nuts_trace)"
   ]
  },
  {
   "cell_type": "markdown",
   "metadata": {
    "slideshow": {
     "slide_type": "slide"
    }
   },
   "source": [
    "<h2>Step 4: Predict data by creating posterior predictive samples </h2>"
   ]
  },
  {
   "cell_type": "code",
   "execution_count": 16,
   "metadata": {
    "slideshow": {
     "slide_type": "fragment"
    }
   },
   "outputs": [
    {
     "name": "stderr",
     "output_type": "stream",
     "text": [
      "100%|██████████| 1000/1000 [02:13<00:00,  9.21it/s]\n"
     ]
    }
   ],
   "source": [
    "ppc = pm.sample_ppc(\n",
    "    nuts_trace[1000:],\n",
    "    model=lin_reg_model,\n",
    "    samples=1000\n",
    ")"
   ]
  },
  {
   "cell_type": "code",
   "execution_count": 17,
   "metadata": {
    "collapsed": true,
    "slideshow": {
     "slide_type": "fragment"
    }
   },
   "outputs": [],
   "source": [
    "pred = ppc['y'].mean(axis=0)"
   ]
  },
  {
   "cell_type": "code",
   "execution_count": 19,
   "metadata": {
    "slideshow": {
     "slide_type": "fragment"
    }
   },
   "outputs": [
    {
     "data": {
      "text/plain": [
       "0.79201926792334498"
      ]
     },
     "execution_count": 19,
     "metadata": {},
     "output_type": "execute_result"
    }
   ],
   "source": [
    "r2_score(Y, pred)"
   ]
  },
  {
   "cell_type": "markdown",
   "metadata": {
    "slideshow": {
     "slide_type": "slide"
    }
   },
   "source": [
    "<h2> Most PyMC3 Examples </h2>\n",
    "\n",
    "* Exist in Jupyter notebooks\n",
    "* Focus on training a model with one dataset\n",
    "* Don’t demonstrate how to predict new data\n",
    "* Don’t show how to save your model for later use\n",
    "\n"
   ]
  },
  {
   "cell_type": "markdown",
   "metadata": {
    "slideshow": {
     "slide_type": "slide"
    }
   },
   "source": [
    "<h2> Comparing the two libraries </h2>\n",
    "\n",
    "<table>\n",
    "<tr>\n",
    "<th> </th>\n",
    "<th>sklearn</th>\n",
    "<th>PyMC3</th>\n",
    "</tr>\n",
    "<tr>\n",
    "<th>Find model parameters</th>\n",
    "<th>Easy</th>\n",
    "<th>Medium</th>\n",
    "</tr>\n",
    "<tr>\n",
    "<th>Predict new data</th>\n",
    "<th>Easy</th>\n",
    "<th>Difficult</th>\n",
    "</tr>\n",
    "<tr>\n",
    "<th>Score a model</th>\n",
    "<th>Easy</th>\n",
    "<th>Difficult</th>\n",
    "</tr>\n",
    "<tr>\n",
    "<th>Save a trained model</th>\n",
    "<th>Easy</th>\n",
    "<th>Impossible?</th>\n",
    "</tr>\n",
    "<tr>\n",
    "<th>Load a trained model</th>\n",
    "<th>Easy</th>\n",
    "<th>Impossible?</th>\n",
    "</tr>\n",
    "</table>\n"
   ]
  },
  {
   "cell_type": "markdown",
   "metadata": {
    "slideshow": {
     "slide_type": "slide"
    }
   },
   "source": [
    "<h2> What we want to reproduce in PyMC3 </h2>\n",
    "\n",
    "* fit\n",
    "* predict\n",
    "* score\n",
    "* save\n",
    "* load\n"
   ]
  },
  {
   "cell_type": "markdown",
   "metadata": {
    "slideshow": {
     "slide_type": "slide"
    }
   },
   "source": [
    "<h2> Map between Scikitlearn and PyMC3 </h2>\n",
    "\n",
    "<table>\n",
    "<tr>\n",
    "<th>sklearn</th>\n",
    "<th>PyMC3</th>\n",
    "</tr>\n",
    "<tr>\n",
    "<th>Fit</th>\n",
    "<th>Step 1: Set up, Step 2: Inference</th>\n",
    "</tr>\n",
    "<tr>\n",
    "<th>Predict</th>\n",
    "<th>Step 4: Predict data</th>\n",
    "</tr>\n",
    "<tr>\n",
    "<th>Score</th>\n",
    "<th>Step 4: Predict data</th>\n",
    "</tr>\n",
    "<tr>\n",
    "<th>Save/Load</th>\n",
    "<th>??</th>\n",
    "</tr>\n",
    "<tr>\n",
    "<th>??</th>\n",
    "<th>Step 3: Interpret</th>\n",
    "</tr>\n",
    "</table>"
   ]
  },
  {
   "cell_type": "markdown",
   "metadata": {
    "slideshow": {
     "slide_type": "slide"
    }
   },
   "source": [
    "<h2> Initializing the HLM class </h2>"
   ]
  },
  {
   "cell_type": "code",
   "execution_count": null,
   "metadata": {
    "collapsed": true,
    "slideshow": {
     "slide_type": "fragment"
    }
   },
   "outputs": [],
   "source": [
    "class HLM(BaseEstimator):\n",
    "    \"\"\"\n",
    "    Custom Hierachical Linear Model built using PyMC3.\n",
    "    \"\"\"\n",
    "\n",
    "    def __init__(self):\n",
    "        self.cached_model = None\n",
    "        self.shared_vars = None\n",
    "        self.num_cats = None\n",
    "        self.num_pred = None\n",
    "        self.advi_trace = None\n",
    "        self.v_params = None"
   ]
  },
  {
   "cell_type": "markdown",
   "metadata": {
    "slideshow": {
     "slide_type": "slide"
    }
   },
   "source": [
    "<h2> Fit </h2>"
   ]
  },
  {
   "cell_type": "code",
   "execution_count": 1,
   "metadata": {
    "collapsed": true,
    "slideshow": {
     "slide_type": "fragment"
    }
   },
   "outputs": [],
   "source": [
    "def fit(self, X, cats, y):\n",
    "    \"\"\"\n",
    "    Train the HLM model\n",
    "\n",
    "    Parameters\n",
    "    ----------\n",
    "    X : numpy array, shape [n_samples, n_features]\n",
    "\n",
    "    cats: numpy array, shape [n_samples, ]\n",
    "\n",
    "    y : numpy array, shape [n_samples, ]\n",
    "    \"\"\"\n",
    "    self.num_cats = len(np.unique(cats))\n",
    "    num_samples, self.num_pred = X.shape\n",
    "\n",
    "    if self.cached_model is None:\n",
    "        # Step 1: Set up the model\n",
    "        self.cached_model, o = self.create_model()\n",
    "\n",
    "    #Step 2: Inference\n",
    "    minibatch_tensors = [\n",
    "        self.shared_vars['model_input'],\n",
    "        self.shared_vars['model_output'],\n",
    "        self.shared_vars['model_cats']\n",
    "    ]\n",
    "    minibatch_RVs = [o]\n",
    "\n",
    "    minibatches = self._create_minibatch([X, y, cats], num_samples)\n",
    "\n",
    "    self.v_params, self.advi_trace = self._inference(\n",
    "        minibatch_tensors,\n",
    "        minibatch_RVs,\n",
    "        minibatches,\n",
    "        num_samples\n",
    "    )\n",
    "\n",
    "    return self"
   ]
  },
  {
   "cell_type": "markdown",
   "metadata": {
    "slideshow": {
     "slide_type": "slide"
    }
   },
   "source": [
    "<h2> Step 1: Set up the model </h2>"
   ]
  },
  {
   "cell_type": "code",
   "execution_count": null,
   "metadata": {
    "collapsed": true,
    "slideshow": {
     "slide_type": "fragment"
    }
   },
   "outputs": [],
   "source": [
    "def create_model(self):\n",
    "    \"\"\"\n",
    "    Creates and returns the PyMC3 model.\n",
    "\n",
    "    Returns the model and the output variable. The latter is for use in ADVI minibatch.\n",
    "    \"\"\"\n",
    "    model_input = theano.shared(np.zeros([1, self.num_pred]))\n",
    "\n",
    "    model_output = theano.shared(np.zeros(1))\n",
    "\n",
    "    model_cats = theano.shared(np.zeros(1, dtype='int'))\n",
    "\n",
    "    self.shared_vars = {\n",
    "        'model_input': model_input,\n",
    "        'model_output': model_output,\n",
    "        'model_cats': model_cats\n",
    "    }\n",
    "\n",
    "    model = pm.Model()\n",
    "\n",
    "    with model:\n",
    "        # Both alpha and beta are drawn from Normal distributions\n",
    "        mu_alpha = pm.Normal(\"mu_alpha\", mu=0, sd=10)\n",
    "        sigma_alpha = pm.HalfNormal(\"sigma_alpha\", sd=10)\n",
    "\n",
    "        mu_beta = pm.Normal(\"mu_beta\", mu=0, sd=10)\n",
    "        sigma_beta = pm.HalfNormal(\"sigma_beta\", sd=10)\n",
    "\n",
    "        alpha = pm.Normal(\n",
    "            'alpha',\n",
    "            mu=mu_alpha,\n",
    "            sd=sigma_alpha,\n",
    "            shape=(self.num_cats,)\n",
    "        )\n",
    "\n",
    "        beta = pm.Normal(\n",
    "            'beta',\n",
    "            mu=mu_beta,\n",
    "            sd=sigma_beta,\n",
    "            shape=(self.num_cats, self.num_pred)\n",
    "        )\n",
    "\n",
    "        c = model_cats\n",
    "\n",
    "        temp = alpha[c] + T.sum(beta[c] * model_input, 1)\n",
    "\n",
    "        p = pm.invlogit(temp)\n",
    "\n",
    "        o = pm.Bernoulli('o', p, observed=model_output)\n",
    "\n",
    "    return model, o"
   ]
  },
  {
   "cell_type": "markdown",
   "metadata": {
    "slideshow": {
     "slide_type": "slide"
    }
   },
   "source": [
    "<h2> Step 2a: Inference: Create minibatches for ADVI</h2>"
   ]
  },
  {
   "cell_type": "code",
   "execution_count": null,
   "metadata": {
    "collapsed": true,
    "slideshow": {
     "slide_type": "fragment"
    }
   },
   "outputs": [],
   "source": [
    "@staticmethod\n",
    "def _create_minibatch(data, num_samples, size=100):\n",
    "    \"\"\"\n",
    "    Generator that returns mini-batches in each iteration\n",
    "    \"\"\"\n",
    "    while True:\n",
    "        # Return random data samples of set size each iteration\n",
    "        ixs = np.random.randint(num_samples, size=size)\n",
    "        yield [tensor[ixs] for tensor in data]"
   ]
  },
  {
   "cell_type": "markdown",
   "metadata": {
    "slideshow": {
     "slide_type": "slide"
    }
   },
   "source": [
    "<h2> Step 2: Inference </h2>"
   ]
  },
  {
   "cell_type": "code",
   "execution_count": null,
   "metadata": {
    "collapsed": true,
    "slideshow": {
     "slide_type": "fragment"
    }
   },
   "outputs": [],
   "source": [
    "def _inference(\n",
    "    self,\n",
    "    minibatch_tensors,\n",
    "    minibatch_RVs,\n",
    "    minibatches,\n",
    "    num_samples\n",
    "):\n",
    "    \"\"\"\n",
    "    Runs minibatch variational ADVI and then sample from those results.\n",
    "    \"\"\"\n",
    "    with self.cached_model:\n",
    "        v_params = pm.variational.advi_minibatch(\n",
    "            n=50000,\n",
    "            minibatch_tensors=minibatch_tensors,\n",
    "            minibatch_RVs=minibatch_RVs,\n",
    "            minibatches=minibatches,\n",
    "            total_size=int(num_samples),\n",
    "            learning_rate=1e-2,\n",
    "            epsilon=1.0\n",
    "        )\n",
    "\n",
    "        advi_trace = pm.variational.sample_vp(v_params, draws=7500)\n",
    "\n",
    "    return v_params, advi_trace"
   ]
  },
  {
   "cell_type": "markdown",
   "metadata": {
    "slideshow": {
     "slide_type": "slide"
    }
   },
   "source": [
    "<h2> Predict Probabilities </h2>"
   ]
  },
  {
   "cell_type": "code",
   "execution_count": null,
   "metadata": {
    "collapsed": true,
    "slideshow": {
     "slide_type": "fragment"
    }
   },
   "outputs": [],
   "source": [
    "def predict_proba(self, X, cats):\n",
    "    \"\"\"\n",
    "    Predicts probabilities of new data with a trained HLM\n",
    "\n",
    "    Parameters\n",
    "    ----------\n",
    "    X : numpy array, shape [n_samples, n_features]\n",
    "\n",
    "    cats: numpy array, shape [n_samples, ]\n",
    "    \"\"\"\n",
    "\n",
    "    if self.advi_trace is None:\n",
    "        raise PSToolkitError(\"Run fit on the model before predict.\")\n",
    "\n",
    "    num_samples = X.shape[0]\n",
    "\n",
    "    if self.cached_model is None:\n",
    "        self.cached_model, o = self.create_model()\n",
    "    \n",
    "    # Step 4: Predict data\n",
    "    self._set_shared_vars(X, np.zeros(num_samples), cats)\n",
    "   \n",
    "    ppc = pm.sample_ppc(\n",
    "        self.advi_trace,\n",
    "        model=self.cached_model,\n",
    "        samples=2000\n",
    "    )\n",
    "\n",
    "    return ppc['o'].mean(axis=0)"
   ]
  },
  {
   "cell_type": "markdown",
   "metadata": {
    "slideshow": {
     "slide_type": "slide"
    }
   },
   "source": [
    "<h2> Set Shared Variables (part of Step 4) </h2>"
   ]
  },
  {
   "cell_type": "code",
   "execution_count": null,
   "metadata": {
    "collapsed": true,
    "slideshow": {
     "slide_type": "fragment"
    }
   },
   "outputs": [],
   "source": [
    "def _set_shared_vars(self, model_input, model_output, model_cats):\n",
    "    \"\"\"\n",
    "    Creates theano shared variables for the PyMC3 model.\n",
    "    \"\"\"\n",
    "    self.shared_vars['model_input'].set_value(model_input)\n",
    "\n",
    "    self.shared_vars['model_output'].set_value(model_output)\n",
    "\n",
    "    self.shared_vars['model_cats'].set_value(model_cats)"
   ]
  },
  {
   "cell_type": "markdown",
   "metadata": {
    "slideshow": {
     "slide_type": "slide"
    }
   },
   "source": [
    "<h2> Predict </h2>"
   ]
  },
  {
   "cell_type": "code",
   "execution_count": null,
   "metadata": {
    "collapsed": true,
    "slideshow": {
     "slide_type": "fragment"
    }
   },
   "outputs": [],
   "source": [
    "def predict(self, X, cats):\n",
    "    \"\"\"\n",
    "    Predicts labels of new data with a trained HLM\n",
    "\n",
    "    Parameters\n",
    "    ----------\n",
    "    X : numpy array, shape [n_samples, n_features]\n",
    "\n",
    "    cats: numpy array, shape [n_samples, ]\n",
    "    \"\"\"\n",
    "    ppc_mean = self.predict_proba(X, cats)\n",
    "\n",
    "    pred = ppc_mean > 0.5\n",
    "\n",
    "    return pred"
   ]
  },
  {
   "cell_type": "markdown",
   "metadata": {
    "slideshow": {
     "slide_type": "slide"
    }
   },
   "source": [
    "<h2> Score </h2>"
   ]
  },
  {
   "cell_type": "code",
   "execution_count": null,
   "metadata": {
    "collapsed": true,
    "slideshow": {
     "slide_type": "fragment"
    }
   },
   "outputs": [],
   "source": [
    "def score(self, X, cats, y):\n",
    "    \"\"\"\n",
    "    Scores new data with a trained model.\n",
    "\n",
    "    Parameters\n",
    "    ----------\n",
    "    X : numpy array, shape [n_samples, n_features]\n",
    "\n",
    "    cats: numpy array, shape [n_samples, ]\n",
    "\n",
    "    y : numpy array, shape [n_samples, ]\n",
    "    \"\"\"\n",
    "    return accuracy_score(y, self.predict(X, cats))\n"
   ]
  },
  {
   "cell_type": "markdown",
   "metadata": {
    "slideshow": {
     "slide_type": "slide"
    }
   },
   "source": [
    "<h2> Save </h2>"
   ]
  },
  {
   "cell_type": "code",
   "execution_count": null,
   "metadata": {
    "collapsed": true,
    "slideshow": {
     "slide_type": "fragment"
    }
   },
   "outputs": [],
   "source": [
    "def save(self, file_prefix):\n",
    "    \"\"\"\n",
    "    Saves the advi_trace, v_params, and param files with the given file_prefix.\n",
    "\n",
    "    Parameters\n",
    "    ----------\n",
    "    file_prefix: str\n",
    "    path and prefix used to identify where to save trace and params for this model.\n",
    "    ex. given file_prefix = \"path/to/file/\"\n",
    "    This will attempt to save to \"path/to/file/advi_trace.pickle\" and \"path/to/file/params.pickle\"\n",
    "    \"\"\"\n",
    "    fileObject = open(file_prefix + \"advi_trace.pickle\", 'w')\n",
    "    joblib.dump(self.advi_trace, fileObject)\n",
    "    fileObject.close()\n",
    "\n",
    "    fileObject = open(file_prefix + \"v_params.pickle\", 'w')\n",
    "    joblib.dump(self.v_params, fileObject)\n",
    "    fileObject.close()\n",
    "\n",
    "    fileObject = open(file_prefix + \"params.pickle\", 'w')\n",
    "    joblib.dump(\n",
    "        {\"num_cats\": self.num_cats, \"num_pred\": self.num_pred},\n",
    "        fileObject\n",
    "    )\n",
    "    fileObject.close()"
   ]
  },
  {
   "cell_type": "markdown",
   "metadata": {
    "slideshow": {
     "slide_type": "slide"
    }
   },
   "source": [
    "<h2> Load </h2>"
   ]
  },
  {
   "cell_type": "code",
   "execution_count": null,
   "metadata": {
    "collapsed": true,
    "slideshow": {
     "slide_type": "fragment"
    }
   },
   "outputs": [],
   "source": [
    "def load(self, file_prefix):\n",
    "    \"\"\"\n",
    "    Loads a saved version of the advi_trace, v_params, and param files with the given file_prefix.\n",
    "\n",
    "    Parameters\n",
    "    ----------\n",
    "    file_prefix: str\n",
    "    path and prefix used to identify where to load saved trace and params for this model.\n",
    "    ex. given file_prefix = \"path/to/file/\"\n",
    "    This will attempt to load \"path/to/file/advi_trace.pickle\" and \"path/to/file/params.pickle\"\n",
    "    \"\"\"\n",
    "    self.advi_trace = joblib.load(file_prefix + \"advi_trace.pickle\")\n",
    "    self.v_params = joblib.load(file_prefix + \"v_params.pickle\")\n",
    "\n",
    "    params = joblib.load(file_prefix + \"params.pickle\")\n",
    "    self.num_cats = params[\"num_cats\"]\n",
    "    self.num_pred = params[\"num_pred\"]"
   ]
  },
  {
   "cell_type": "markdown",
   "metadata": {
    "slideshow": {
     "slide_type": "slide"
    }
   },
   "source": [
    "<h2>Use the Custom PyMC3 Class </h2>"
   ]
  },
  {
   "cell_type": "markdown",
   "metadata": {
    "slideshow": {
     "slide_type": "slide"
    }
   },
   "source": [
    "<h2> Generate Fake Data </h2>"
   ]
  },
  {
   "cell_type": "code",
   "execution_count": 20,
   "metadata": {
    "collapsed": true,
    "slideshow": {
     "slide_type": "fragment"
    }
   },
   "outputs": [],
   "source": [
    "num_pred = 2\n",
    "num_samples = 50000\n",
    "num_categories = 2"
   ]
  },
  {
   "cell_type": "code",
   "execution_count": 21,
   "metadata": {
    "collapsed": true,
    "slideshow": {
     "slide_type": "fragment"
    }
   },
   "outputs": [],
   "source": [
    "alphas = 5 * np.random.randn(num_categories) + 5\n",
    "betas = 10 * np.random.randn(num_categories, num_pred) + 10"
   ]
  },
  {
   "cell_type": "code",
   "execution_count": 22,
   "metadata": {
    "slideshow": {
     "slide_type": "fragment"
    }
   },
   "outputs": [
    {
     "data": {
      "text/plain": [
       "array([ 10.504393  ,   4.14209756])"
      ]
     },
     "execution_count": 22,
     "metadata": {},
     "output_type": "execute_result"
    }
   ],
   "source": [
    "alphas"
   ]
  },
  {
   "cell_type": "code",
   "execution_count": 23,
   "metadata": {
    "slideshow": {
     "slide_type": "fragment"
    }
   },
   "outputs": [
    {
     "data": {
      "text/plain": [
       "array([[ 26.66043759,   5.84309762],\n",
       "       [  7.72751492,  27.70391905]])"
      ]
     },
     "execution_count": 23,
     "metadata": {},
     "output_type": "execute_result"
    }
   ],
   "source": [
    "betas"
   ]
  },
  {
   "cell_type": "code",
   "execution_count": 24,
   "metadata": {
    "collapsed": true,
    "slideshow": {
     "slide_type": "fragment"
    }
   },
   "outputs": [],
   "source": [
    "def numpy_invlogit(x):\n",
    "    return 1 / (1 + np.exp(-x))"
   ]
  },
  {
   "cell_type": "code",
   "execution_count": 25,
   "metadata": {
    "collapsed": true,
    "slideshow": {
     "slide_type": "fragment"
    }
   },
   "outputs": [],
   "source": [
    "x_a = np.random.randn(num_samples, num_pred)\n",
    "y_a = np.random.binomial(1, numpy_invlogit(alphas[0] + np.sum(betas[0] * x_a, 1)))\n",
    "x_b = np.random.randn(num_samples, num_pred)\n",
    "y_b = np.random.binomial(1, numpy_invlogit(alphas[1] + np.sum(betas[1] * x_b, 1)))\n",
    "\n",
    "X = np.concatenate([x_a, x_b])\n",
    "Y = np.concatenate([y_a, y_b])\n",
    "cats = np.concatenate([\n",
    "    np.zeros(num_samples, dtype=np.int),\n",
    "    np.ones(num_samples, dtype=np.int)\n",
    "])"
   ]
  },
  {
   "cell_type": "markdown",
   "metadata": {
    "slideshow": {
     "slide_type": "slide"
    }
   },
   "source": [
    "<h2> Load the class </h2>"
   ]
  },
  {
   "cell_type": "code",
   "execution_count": 26,
   "metadata": {
    "collapsed": true,
    "slideshow": {
     "slide_type": "fragment"
    }
   },
   "outputs": [],
   "source": [
    "from ps_toolkit import HLM"
   ]
  },
  {
   "cell_type": "code",
   "execution_count": 27,
   "metadata": {
    "collapsed": true,
    "slideshow": {
     "slide_type": "fragment"
    }
   },
   "outputs": [],
   "source": [
    "HLM1 = HLM()"
   ]
  },
  {
   "cell_type": "code",
   "execution_count": 28,
   "metadata": {
    "collapsed": true,
    "slideshow": {
     "slide_type": "skip"
    }
   },
   "outputs": [],
   "source": [
    "warnings.filterwarnings(action=\"ignore\", module=\"theano\", message=\"^theano.tensor.round\")"
   ]
  },
  {
   "cell_type": "markdown",
   "metadata": {
    "slideshow": {
     "slide_type": "slide"
    }
   },
   "source": [
    "<h2> Fit the HLM </h2>"
   ]
  },
  {
   "cell_type": "code",
   "execution_count": 29,
   "metadata": {
    "slideshow": {
     "slide_type": "fragment"
    }
   },
   "outputs": [
    {
     "name": "stderr",
     "output_type": "stream",
     "text": [
      "Average ELBO = -4,522.16: 100%|██████████| 50000/50000 [01:07<00:00, 744.57it/s] \n",
      "Finished minibatch ADVI: ELBO = -11,522.86\n",
      "100%|██████████| 7500/7500 [00:01<00:00, 5520.08it/s]\n"
     ]
    },
    {
     "data": {
      "text/plain": [
       "HLM()"
      ]
     },
     "execution_count": 29,
     "metadata": {},
     "output_type": "execute_result"
    }
   ],
   "source": [
    "HLM1.fit(X, cats, Y)"
   ]
  },
  {
   "cell_type": "markdown",
   "metadata": {
    "slideshow": {
     "slide_type": "slide"
    }
   },
   "source": [
    "<h2> Predict and score the model </h2>"
   ]
  },
  {
   "cell_type": "code",
   "execution_count": 30,
   "metadata": {
    "slideshow": {
     "slide_type": "fragment"
    }
   },
   "outputs": [
    {
     "name": "stderr",
     "output_type": "stream",
     "text": [
      "100%|██████████| 2000/2000 [00:36<00:00, 67.67it/s]\n"
     ]
    }
   ],
   "source": [
    "probs = HLM1.predict_proba(X, cats)"
   ]
  },
  {
   "cell_type": "code",
   "execution_count": 31,
   "metadata": {
    "slideshow": {
     "slide_type": "fragment"
    }
   },
   "outputs": [
    {
     "name": "stderr",
     "output_type": "stream",
     "text": [
      "100%|██████████| 2000/2000 [00:34<00:00, 58.12it/s]\n"
     ]
    }
   ],
   "source": [
    "pred = HLM1.predict(X, cats)"
   ]
  },
  {
   "cell_type": "code",
   "execution_count": 32,
   "metadata": {
    "slideshow": {
     "slide_type": "fragment"
    }
   },
   "outputs": [
    {
     "name": "stderr",
     "output_type": "stream",
     "text": [
      "100%|██████████| 2000/2000 [00:32<00:00, 57.59it/s]\n"
     ]
    },
    {
     "data": {
      "text/plain": [
       "0.98107999999999995"
      ]
     },
     "execution_count": 32,
     "metadata": {},
     "output_type": "execute_result"
    }
   ],
   "source": [
    "HLM1.score(X, cats, Y)"
   ]
  },
  {
   "cell_type": "markdown",
   "metadata": {
    "slideshow": {
     "slide_type": "slide"
    }
   },
   "source": [
    "<h2> Save and Load the model </h2>"
   ]
  },
  {
   "cell_type": "code",
   "execution_count": 33,
   "metadata": {
    "collapsed": true,
    "slideshow": {
     "slide_type": "fragment"
    }
   },
   "outputs": [],
   "source": [
    "HLM1.save(\"HLM_jar/\")"
   ]
  },
  {
   "cell_type": "code",
   "execution_count": 34,
   "metadata": {
    "collapsed": true,
    "slideshow": {
     "slide_type": "fragment"
    }
   },
   "outputs": [],
   "source": [
    "HLM2 = HLM()"
   ]
  },
  {
   "cell_type": "code",
   "execution_count": 35,
   "metadata": {
    "collapsed": true,
    "slideshow": {
     "slide_type": "fragment"
    }
   },
   "outputs": [],
   "source": [
    "HLM2.load(\"HLM_jar/\")"
   ]
  },
  {
   "cell_type": "code",
   "execution_count": 36,
   "metadata": {
    "slideshow": {
     "slide_type": "fragment"
    }
   },
   "outputs": [
    {
     "name": "stderr",
     "output_type": "stream",
     "text": [
      "100%|██████████| 2000/2000 [00:30<00:00, 66.31it/s]\n"
     ]
    },
    {
     "data": {
      "text/plain": [
       "0.98099999999999998"
      ]
     },
     "execution_count": 36,
     "metadata": {},
     "output_type": "execute_result"
    }
   ],
   "source": [
    "HLM2.score(X, cats, Y)"
   ]
  },
  {
   "cell_type": "markdown",
   "metadata": {
    "slideshow": {
     "slide_type": "slide"
    }
   },
   "source": [
    "<h2>Step 3: Interpret your parameters</h2>"
   ]
  },
  {
   "cell_type": "code",
   "execution_count": 37,
   "metadata": {
    "scrolled": true,
    "slideshow": {
     "slide_type": "fragment"
    }
   },
   "outputs": [
    {
     "data": {
      "image/png": "[encoded data removed]",
      "text/plain": [
       "<matplotlib.figure.Figure at 0x145d6d790>"
      ]
     },
     "metadata": {},
     "output_type": "display_data"
    }
   ],
   "source": [
    "HLM1.plot_elbo()"
   ]
  },
  {
   "cell_type": "code",
   "execution_count": 38,
   "metadata": {
    "scrolled": true,
    "slideshow": {
     "slide_type": "fragment"
    }
   },
   "outputs": [
    {
     "name": "stdout",
     "output_type": "stream",
     "text": [
      "\n",
      "mu_alpha:\n",
      "\n",
      "  Mean             SD               MC Error         95% HPD interval\n",
      "  -------------------------------------------------------------------\n",
      "  \n",
      "  5.896            3.696            0.042            [-1.250, 13.142]\n",
      "\n",
      "  Posterior quantiles:\n",
      "  2.5            25             50             75             97.5\n",
      "  |--------------|==============|==============|--------------|\n",
      "  \n",
      "  -1.294         3.376          5.897          8.396          13.116\n",
      "\n",
      "\n",
      "mu_beta:\n",
      "\n",
      "  Mean             SD               MC Error         95% HPD interval\n",
      "  -------------------------------------------------------------------\n",
      "  \n",
      "  12.132           5.290            0.061            [1.493, 22.115]\n",
      "\n",
      "  Posterior quantiles:\n",
      "  2.5            25             50             75             97.5\n",
      "  |--------------|==============|==============|--------------|\n",
      "  \n",
      "  1.603          8.580          12.126         15.748         22.310\n",
      "\n",
      "\n",
      "alpha:\n",
      "\n",
      "  Mean             SD               MC Error         95% HPD interval\n",
      "  -------------------------------------------------------------------\n",
      "  \n",
      "  9.107            0.038            0.000            [9.033, 9.181]\n",
      "  3.932            0.046            0.001            [3.843, 4.023]\n",
      "\n",
      "  Posterior quantiles:\n",
      "  2.5            25             50             75             97.5\n",
      "  |--------------|==============|==============|--------------|\n",
      "  \n",
      "  9.032          9.082          9.108          9.133          9.181\n",
      "  3.842          3.901          3.932          3.963          4.022\n",
      "\n",
      "\n",
      "beta:\n",
      "\n",
      "  Mean             SD               MC Error         95% HPD interval\n",
      "  -------------------------------------------------------------------\n",
      "  ..............................[0, :]...............................\n",
      "  23.369           0.102            0.001            [23.167, 23.570]\n",
      "  5.084            0.042            0.000            [5.002, 5.170]\n",
      "  ..............................[1, :]...............................\n",
      "  7.374            0.054            0.001            [7.264, 7.478]\n",
      "  26.387           0.121            0.001            [26.152, 26.625]\n",
      "\n",
      "  Posterior quantiles:\n",
      "  2.5            25             50             75             97.5\n",
      "  |--------------|==============|==============|--------------|\n",
      "  .............................[0, :].............................\n",
      "  23.165         23.301         23.370         23.438         23.569\n",
      "  5.001          5.056          5.084          5.113          5.169\n",
      "  .............................[1, :].............................\n",
      "  7.266          7.338          7.374          7.411          7.481\n",
      "  26.147         26.307         26.387         26.469         26.624\n",
      "\n",
      "\n",
      "sigma_alpha:\n",
      "\n",
      "  Mean             SD               MC Error         95% HPD interval\n",
      "  -------------------------------------------------------------------\n",
      "  \n",
      "  6.642            4.231            0.046            [1.194, 14.930]\n",
      "\n",
      "  Posterior quantiles:\n",
      "  2.5            25             50             75             97.5\n",
      "  |--------------|==============|==============|--------------|\n",
      "  \n",
      "  1.785          3.759          5.562          8.333          17.750\n",
      "\n",
      "\n",
      "sigma_beta:\n",
      "\n",
      "  Mean             SD               MC Error         95% HPD interval\n",
      "  -------------------------------------------------------------------\n",
      "  \n",
      "  12.020           3.769            0.044            [5.375, 19.478]\n",
      "\n",
      "  Posterior quantiles:\n",
      "  2.5            25             50             75             97.5\n",
      "  |--------------|==============|==============|--------------|\n",
      "  \n",
      "  6.199          9.288          11.464         14.191         20.815\n",
      "\n"
     ]
    }
   ],
   "source": [
    "summary(HLM1.advi_trace)"
   ]
  },
  {
   "cell_type": "code",
   "execution_count": 39,
   "metadata": {
    "slideshow": {
     "slide_type": "fragment"
    }
   },
   "outputs": [
    {
     "data": {
      "text/plain": [
       "array([ 10.504393  ,   4.14209756])"
      ]
     },
     "execution_count": 39,
     "metadata": {},
     "output_type": "execute_result"
    }
   ],
   "source": [
    "alphas"
   ]
  },
  {
   "cell_type": "code",
   "execution_count": 40,
   "metadata": {
    "slideshow": {
     "slide_type": "fragment"
    }
   },
   "outputs": [
    {
     "data": {
      "text/plain": [
       "array([[ 26.66043759,   5.84309762],\n",
       "       [  7.72751492,  27.70391905]])"
      ]
     },
     "execution_count": 40,
     "metadata": {},
     "output_type": "execute_result"
    }
   ],
   "source": [
    "betas"
   ]
  },
  {
   "cell_type": "code",
   "execution_count": 41,
   "metadata": {
    "scrolled": true,
    "slideshow": {
     "slide_type": "fragment"
    }
   },
   "outputs": [
    {
     "data": {
      "text/plain": [
       "array([[<matplotlib.axes._subplots.AxesSubplot object at 0x1462128d0>,\n",
       "        <matplotlib.axes._subplots.AxesSubplot object at 0x14661e990>],\n",
       "       [<matplotlib.axes._subplots.AxesSubplot object at 0x146691510>,\n",
       "        <matplotlib.axes._subplots.AxesSubplot object at 0x1466e8750>],\n",
       "       [<matplotlib.axes._subplots.AxesSubplot object at 0x14675b350>,\n",
       "        <matplotlib.axes._subplots.AxesSubplot object at 0x1467082d0>],\n",
       "       [<matplotlib.axes._subplots.AxesSubplot object at 0x146cc1750>,\n",
       "        <matplotlib.axes._subplots.AxesSubplot object at 0x146d41c90>],\n",
       "       [<matplotlib.axes._subplots.AxesSubplot object at 0x146db1ed0>,\n",
       "        <matplotlib.axes._subplots.AxesSubplot object at 0x146e37f10>],\n",
       "       [<matplotlib.axes._subplots.AxesSubplot object at 0x146eab7d0>,\n",
       "        <matplotlib.axes._subplots.AxesSubplot object at 0x146f2fa90>]], dtype=object)"
      ]
     },
     "execution_count": 41,
     "metadata": {},
     "output_type": "execute_result"
    },
    {
     "data": {
      "image/png": "[encoded data removed]",
      "text/plain": [
       "<matplotlib.figure.Figure at 0x14621edd0>"
      ]
     },
     "metadata": {},
     "output_type": "display_data"
    }
   ],
   "source": [
    "traceplot(HLM1.advi_trace)"
   ]
  },
  {
   "cell_type": "markdown",
   "metadata": {
    "slideshow": {
     "slide_type": "slide"
    }
   },
   "source": [
    "<h2> Next Steps </h2>\n",
    "* Build Bayesian Model base class \n",
    "* Pass more options to the init function\n",
    "* Test if this class can be used in an sklearn pipeline\n"
   ]
  },
  {
   "cell_type": "markdown",
   "metadata": {
    "slideshow": {
     "slide_type": "slide"
    }
   },
   "source": [
    "<h2> Thanks: </h2>\n",
    "- Daniel Little\n",
    "- Nico Sandller\n",
    "- PyData Chicago\n",
    "\n",
    "<h3>\n",
    "@parsing_science <br>\n",
    "github.com/parsing-science\n",
    "</h3>"
   ]
  }
 ],
 "metadata": {
  "celltoolbar": "Slideshow",
  "kernelspec": {
   "display_name": "Python 2",
   "language": "python",
   "name": "python2"
  },
  "language_info": {
   "codemirror_mode": {
    "name": "ipython",
    "version": 2
   },
   "file_extension": ".py",
   "mimetype": "text/x-python",
   "name": "python",
   "nbconvert_exporter": "python",
   "pygments_lexer": "ipython2",
   "version": "2.7.10"
  }
 },
 "nbformat": 4,
 "nbformat_minor": 2
}
